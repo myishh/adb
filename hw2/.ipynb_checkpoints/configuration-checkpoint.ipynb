{
 "cells": [
  {
   "cell_type": "code",
   "execution_count": 17,
   "metadata": {
    "collapsed": true
   },
   "outputs": [],
   "source": [
    "import snap\n",
    "import random\n",
    "import copy\n",
    "nodeMapping = snap.TStrIntSH()\n",
    "original = snap.LoadEdgeListStr(snap.PUNGraph, \"USpowergrid_n4941.txt\", 0, 1, nodeMapping)"
   ]
  },
  {
   "cell_type": "code",
   "execution_count": 18,
   "metadata": {
    "collapsed": true
   },
   "outputs": [],
   "source": [
    "degreeList = snap.TIntV()\n",
    "snap.GetDegSeqV(original, degreeList)\n",
    "NodeNum = original.GetNodes()"
   ]
  },
  {
   "cell_type": "code",
   "execution_count": 19,
   "metadata": {
    "collapsed": false
   },
   "outputs": [],
   "source": [
    "v = []\n",
    "for i in xrange(degreeList.Len()):\n",
    "    D = degreeList[i]\n",
    "    v = v + [i for _ in xrange(D)]\n"
   ]
  },
  {
   "cell_type": "code",
   "execution_count": 60,
   "metadata": {
    "collapsed": false
   },
   "outputs": [],
   "source": [
    "Graphs = []\n",
    "while len(Graphs) < 100:\n",
    "    p = copy.copy(v)\n",
    "    random.shuffle(p)\n",
    "    sample = snap.GenRndGnm(snap.PUNGraph, NodeNum, 0, False)\n",
    "    while len(p) != 0:\n",
    "        id1 = p[-1]\n",
    "        id2 = p[-2]\n",
    "        if id1 != id2 and not sample.IsEdge(id1, id2):\n",
    "            sample.AddEdge(id1, id2)\n",
    "            p.pop()\n",
    "            p.pop()\n",
    "        else:\n",
    "            random.shuffle(p)\n",
    "    Graphs.append(sample)"
   ]
  },
  {
   "cell_type": "code",
   "execution_count": 63,
   "metadata": {
    "collapsed": false
   },
   "outputs": [],
   "source": [
    "clstCs = [snap.GetClustCf(g, -1) for g in Graphs]"
   ]
  },
  {
   "cell_type": "code",
   "execution_count": 65,
   "metadata": {
    "collapsed": false
   },
   "outputs": [
    {
     "data": {
      "text/plain": [
       "0.00040350044697192437"
      ]
     },
     "execution_count": 65,
     "metadata": {},
     "output_type": "execute_result"
    }
   ],
   "source": [
    "print \"Average Clustering Coefficient for 100 Samples from Stub Matching Algorithm:\", sum(clstCs) / len(clstCs)"
   ]
  },
  {
   "cell_type": "code",
   "execution_count": 93,
   "metadata": {
    "collapsed": false
   },
   "outputs": [],
   "source": [
    "# Rewiring\n",
    "rG = snap.LoadEdgeList(snap.PUNGraph, \"USpowergrid_n4941.txt\", 0, 1)"
   ]
  },
  {
   "cell_type": "code",
   "execution_count": 94,
   "metadata": {
    "collapsed": true
   },
   "outputs": [],
   "source": [
    "def randomEdge(Graph):\n",
    "    num = Graph.GetEdges()\n",
    "    i = random.randint(0, num - 1)\n",
    "    EI = Graph.BegEI()\n",
    "    k = 0\n",
    "    while k < i:\n",
    "        EI.Next()\n",
    "        k += 1\n",
    "    return EI"
   ]
  },
  {
   "cell_type": "code",
   "execution_count": 95,
   "metadata": {
    "collapsed": false
   },
   "outputs": [],
   "source": [
    "iteration = 10000\n",
    "rewiringCC = []\n",
    "numEdge = rG.GetEdges()\n",
    "for k in xrange(iteration):\n",
    "    E1 = rG.BegEI()\n",
    "    E2 = rG.BegEI()\n",
    "    while True:\n",
    "        E1 = randomEdge(rG)\n",
    "        E2 = randomEdge(rG)\n",
    "        IDS1 = E1.GetId()\n",
    "        IDS2 = E2.GetId()\n",
    "        if IDS1[0] in IDS2 or IDS1[1] in IDS2:\n",
    "            continue\n",
    "        if rG.IsEdge(IDS1[0], IDS2[0]) or rG.IsEdge(IDS1[0], IDS2[1]) or rG.IsEdge(IDS1[1], IDS2[0]) or rG.IsEdge(IDS1[1], IDS2[1]):\n",
    "            continue\n",
    "        \n",
    "        rG.DelEdge(IDS1[0], IDS1[1])\n",
    "        rG.DelEdge(IDS2[0], IDS2[1])\n",
    "        IDS1 = list(IDS1)\n",
    "        IDS2 = list(IDS2)\n",
    "        random.shuffle(IDS1)\n",
    "        random.shuffle(IDS2)\n",
    "        rG.AddEdge(IDS1[0], IDS2[0])\n",
    "        rG.AddEdge(IDS1[1], IDS2[1])\n",
    "        break\n",
    "    \n",
    "    if k % 100 == 0:\n",
    "        rewiringCC.append(snap.GetClustCf(rG, -1))\n",
    "            \n",
    "        "
   ]
  },
  {
   "cell_type": "code",
   "execution_count": 96,
   "metadata": {
    "collapsed": false
   },
   "outputs": [
    {
     "data": {
      "text/plain": [
       "100"
      ]
     },
     "execution_count": 96,
     "metadata": {},
     "output_type": "execute_result"
    }
   ],
   "source": [
    "len(rewiringCC)"
   ]
  },
  {
   "cell_type": "code",
   "execution_count": 98,
   "metadata": {
    "collapsed": false
   },
   "outputs": [
    {
     "data": {
      "text/plain": [
       "0.009983392107692586"
      ]
     },
     "execution_count": 98,
     "metadata": {},
     "output_type": "execute_result"
    }
   ],
   "source": [
    "sum(rewiringCC) / 100"
   ]
  },
  {
   "cell_type": "code",
   "execution_count": 102,
   "metadata": {
    "collapsed": false
   },
   "outputs": [],
   "source": [
    "import matplotlib.pyplot as plt\n",
    "import numpy as np\n",
    "plt.plot(np.arange(0, 10000, 100), rewiringCC, color = \"#208ef1\")\n",
    "plt.title(\"Clustering Coefficient VS Iteration Number of Rewiring Algorithm\")\n",
    "plt.xlabel(\"Number of Iteration\")\n",
    "plt.ylabel(\"Clustering Coefficient\")\n",
    "plt.savefig(\"rewiring.pdf\")\n",
    "plt.close()"
   ]
  },
  {
   "cell_type": "code",
   "execution_count": 100,
   "metadata": {
    "collapsed": true
   },
   "outputs": [],
   "source": [
    "plt.close()"
   ]
  },
  {
   "cell_type": "code",
   "execution_count": null,
   "metadata": {
    "collapsed": true
   },
   "outputs": [],
   "source": []
  }
 ],
 "metadata": {
  "anaconda-cloud": {},
  "kernelspec": {
   "display_name": "Python [conda root]",
   "language": "python",
   "name": "conda-root-py"
  },
  "language_info": {
   "codemirror_mode": {
    "name": "ipython",
    "version": 2
   },
   "file_extension": ".py",
   "mimetype": "text/x-python",
   "name": "python",
   "nbconvert_exporter": "python",
   "pygments_lexer": "ipython2",
   "version": "2.7.12"
  }
 },
 "nbformat": 4,
 "nbformat_minor": 1
}
